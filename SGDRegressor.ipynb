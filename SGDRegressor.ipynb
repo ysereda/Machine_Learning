{
 "cells": [
  {
   "cell_type": "markdown",
   "metadata": {},
   "source": [
    "# Regression with Machine Learning\n",
    "Guns is a balanced panel of data on 50 US states, plus the District of Columbia (for a total of 51 “states”), by year for 1977 – 1999. Each observation is a given state in a given \n",
    "year. There are a total of 51 states × 23 years = 1173 observations. These data were provided by Professor John Donohue of Stanford University and were used in his paper \n",
    "with Ian Ayres “Shooting Down the ‘More Guns Less Crime’ Hypothesis” Stanford Law Review, 2003, Vol. 55, 1193-1312.\n",
    "\n",
    "Variables:\n",
    "\n",
    "`year`: 1977-1999\n",
    "\n",
    "`incarc_rate`: incarceration rate in the state in the previous year (sentenced prisoners per 100,000 residents; value for the previous year)\n",
    "\n",
    "`pb1064`: percent of state population that is black, ages 10 to 64\n",
    "\n",
    "`pw1064`: percent of state population that is white, ages 10 to 64\n",
    "\n",
    "`pm1029`: percent of state population that is male, ages 10 to 29\n",
    "\n",
    "`pop`: state population, in millions of people\n",
    "\n",
    "`avginc`: real per capita personal income in the state, in thousands of dollars\n",
    "\n",
    "`density`: population per square mile of land area, divided by 1000\n",
    "\n",
    "`stateid`: ID number of states (Alabama = 1, Alaska = 2, etc.)\n",
    "\n",
    "[Stock and Watson’s Introduction to Econometrics, 3rd Updated Edition]"
   ]
  },
  {
   "cell_type": "code",
   "execution_count": 32,
   "metadata": {},
   "outputs": [
    {
     "data": {
      "text/html": [
       "<div>\n",
       "<style scoped>\n",
       "    .dataframe tbody tr th:only-of-type {\n",
       "        vertical-align: middle;\n",
       "    }\n",
       "\n",
       "    .dataframe tbody tr th {\n",
       "        vertical-align: top;\n",
       "    }\n",
       "\n",
       "    .dataframe thead th {\n",
       "        text-align: right;\n",
       "    }\n",
       "</style>\n",
       "<table border=\"1\" class=\"dataframe\">\n",
       "  <thead>\n",
       "    <tr style=\"text-align: right;\">\n",
       "      <th></th>\n",
       "      <th>vio</th>\n",
       "      <th>year</th>\n",
       "      <th>incarc_rate</th>\n",
       "      <th>pb1064</th>\n",
       "      <th>pw1064</th>\n",
       "      <th>pm1029</th>\n",
       "      <th>pop</th>\n",
       "      <th>avginc</th>\n",
       "      <th>density</th>\n",
       "      <th>stateid</th>\n",
       "      <th>shall</th>\n",
       "    </tr>\n",
       "  </thead>\n",
       "  <tbody>\n",
       "    <tr>\n",
       "      <th>0</th>\n",
       "      <td>414.4</td>\n",
       "      <td>77</td>\n",
       "      <td>83</td>\n",
       "      <td>8.384873</td>\n",
       "      <td>55.12291</td>\n",
       "      <td>18.17441</td>\n",
       "      <td>3.780403</td>\n",
       "      <td>9.563148</td>\n",
       "      <td>0.074552</td>\n",
       "      <td>1</td>\n",
       "      <td>0</td>\n",
       "    </tr>\n",
       "    <tr>\n",
       "      <th>1</th>\n",
       "      <td>419.1</td>\n",
       "      <td>78</td>\n",
       "      <td>94</td>\n",
       "      <td>8.352101</td>\n",
       "      <td>55.14367</td>\n",
       "      <td>17.99408</td>\n",
       "      <td>3.831838</td>\n",
       "      <td>9.932000</td>\n",
       "      <td>0.075567</td>\n",
       "      <td>1</td>\n",
       "      <td>0</td>\n",
       "    </tr>\n",
       "    <tr>\n",
       "      <th>2</th>\n",
       "      <td>413.3</td>\n",
       "      <td>79</td>\n",
       "      <td>144</td>\n",
       "      <td>8.329575</td>\n",
       "      <td>55.13586</td>\n",
       "      <td>17.83934</td>\n",
       "      <td>3.866248</td>\n",
       "      <td>9.877028</td>\n",
       "      <td>0.076245</td>\n",
       "      <td>1</td>\n",
       "      <td>0</td>\n",
       "    </tr>\n",
       "    <tr>\n",
       "      <th>3</th>\n",
       "      <td>448.5</td>\n",
       "      <td>80</td>\n",
       "      <td>141</td>\n",
       "      <td>8.408386</td>\n",
       "      <td>54.91259</td>\n",
       "      <td>17.73420</td>\n",
       "      <td>3.900368</td>\n",
       "      <td>9.541428</td>\n",
       "      <td>0.076829</td>\n",
       "      <td>1</td>\n",
       "      <td>0</td>\n",
       "    </tr>\n",
       "    <tr>\n",
       "      <th>4</th>\n",
       "      <td>470.5</td>\n",
       "      <td>81</td>\n",
       "      <td>149</td>\n",
       "      <td>8.483435</td>\n",
       "      <td>54.92513</td>\n",
       "      <td>17.67372</td>\n",
       "      <td>3.918531</td>\n",
       "      <td>9.548351</td>\n",
       "      <td>0.077187</td>\n",
       "      <td>1</td>\n",
       "      <td>0</td>\n",
       "    </tr>\n",
       "  </tbody>\n",
       "</table>\n",
       "</div>"
      ],
      "text/plain": [
       "     vio  year  incarc_rate    pb1064    pw1064    pm1029       pop    avginc  \\\n",
       "0  414.4    77           83  8.384873  55.12291  18.17441  3.780403  9.563148   \n",
       "1  419.1    78           94  8.352101  55.14367  17.99408  3.831838  9.932000   \n",
       "2  413.3    79          144  8.329575  55.13586  17.83934  3.866248  9.877028   \n",
       "3  448.5    80          141  8.408386  54.91259  17.73420  3.900368  9.541428   \n",
       "4  470.5    81          149  8.483435  54.92513  17.67372  3.918531  9.548351   \n",
       "\n",
       "    density  stateid  shall  \n",
       "0  0.074552        1      0  \n",
       "1  0.075567        1      0  \n",
       "2  0.076245        1      0  \n",
       "3  0.076829        1      0  \n",
       "4  0.077187        1      0  "
      ]
     },
     "execution_count": 32,
     "metadata": {},
     "output_type": "execute_result"
    }
   ],
   "source": [
    "import pandas as pd\n",
    "df = pd.read_csv('violent_crimes.csv')\n",
    "df.head()"
   ]
  },
  {
   "cell_type": "markdown",
   "metadata": {},
   "source": [
    "https://medium.com/value-stream-design/online-machine-learning-515556ff72c5\n",
    "\n",
    "Usual starting point is the SGDRegressor class."
   ]
  },
  {
   "cell_type": "code",
   "execution_count": 62,
   "metadata": {},
   "outputs": [
    {
     "name": "stdout",
     "output_type": "stream",
     "text": [
      "   year  incarc_rate    pb1064    pw1064    pm1029       pop    avginc  \\\n",
      "0    77           83  8.384873  55.12291  18.17441  3.780403  9.563148   \n",
      "1    78           94  8.352101  55.14367  17.99408  3.831838  9.932000   \n",
      "2    79          144  8.329575  55.13586  17.83934  3.866248  9.877028   \n",
      "3    80          141  8.408386  54.91259  17.73420  3.900368  9.541428   \n",
      "4    81          149  8.483435  54.92513  17.67372  3.918531  9.548351   \n",
      "\n",
      "    density  stateid  shall  \n",
      "0  0.074552        1      0  \n",
      "1  0.075567        1      0  \n",
      "2  0.076245        1      0  \n",
      "3  0.076829        1      0  \n",
      "4  0.077187        1      0  \n"
     ]
    },
    {
     "data": {
      "text/plain": [
       "SGDRegressor()"
      ]
     },
     "execution_count": 62,
     "metadata": {},
     "output_type": "execute_result"
    }
   ],
   "source": [
    "import numpy as np\n",
    "from sklearn import linear_model\n",
    "y = df['vio'] # violent crime rate (incidents per 100,000 members of the population)\n",
    "X = df.iloc[:,1:]\n",
    "#X = df.iloc[:,1:2+1];\n",
    "print(X.head())\n",
    "n_samples, n_features = y.shape[0], X.shape[1]\n",
    "clf = linear_model.SGDRegressor()\n",
    "clf.fit(X, y)"
   ]
  },
  {
   "cell_type": "markdown",
   "metadata": {},
   "source": [
    "The fit() method does all the training magic, resulting in a model we can use for prediction:"
   ]
  },
  {
   "cell_type": "code",
   "execution_count": 63,
   "metadata": {},
   "outputs": [
    {
     "name": "stdout",
     "output_type": "stream",
     "text": [
      "vio            232.300000\n",
      "year            99.000000\n",
      "incarc_rate    327.000000\n",
      "pb1064           1.613004\n",
      "pw1064          74.049520\n",
      "pm1029          15.480130\n",
      "pop              0.479602\n",
      "avginc          15.765070\n",
      "density          0.004939\n",
      "stateid         56.000000\n",
      "shall            1.000000\n",
      "Name: 1172, dtype: float64\n"
     ]
    }
   ],
   "source": [
    "fp = df.iloc[-1] # features previous\n",
    "print(fp)"
   ]
  },
  {
   "cell_type": "code",
   "execution_count": 64,
   "metadata": {},
   "outputs": [
    {
     "data": {
      "text/plain": [
       "array([[1.000000e+02, 3.270000e+02, 1.613004e+00, 7.404952e+01,\n",
       "        1.548013e+01, 4.796020e-01, 1.576507e+01, 4.939000e-03,\n",
       "        5.600000e+01, 1.000000e+00]])"
      ]
     },
     "execution_count": 64,
     "metadata": {},
     "output_type": "execute_result"
    }
   ],
   "source": [
    "features = np.array([[fp.year+1, fp.incarc_rate, fp.pb1064, fp.pw1064, fp.pm1029, fp['pop'], fp.avginc,fp.density, fp.stateid, fp.shall]]) # year = 2000\n",
    "#features = np.array([[fp.year+1, fp.year, fp.incarc_rate]])\n",
    "features"
   ]
  },
  {
   "cell_type": "code",
   "execution_count": 65,
   "metadata": {
    "scrolled": true
   },
   "outputs": [
    {
     "data": {
      "text/plain": [
       "array([-3.17216627e+12])"
      ]
     },
     "execution_count": 65,
     "metadata": {},
     "output_type": "execute_result"
    }
   ],
   "source": [
    "clf.predict(features)"
   ]
  },
  {
   "cell_type": "markdown",
   "metadata": {},
   "source": [
    "Invalid prediction. What is going on?"
   ]
  },
  {
   "cell_type": "code",
   "execution_count": 77,
   "metadata": {},
   "outputs": [],
   "source": [
    "?linear_model.SGDRegressor"
   ]
  },
  {
   "cell_type": "code",
   "execution_count": 54,
   "metadata": {},
   "outputs": [
    {
     "data": {
      "text/plain": [
       "array([-6.4594364e+13])"
      ]
     },
     "execution_count": 54,
     "metadata": {},
     "output_type": "execute_result"
    }
   ],
   "source": [
    "clf = linear_model.SGDRegressor(max_iter=1e9)\n",
    "clf.fit(X, y)\n",
    "clf.predict(features)"
   ]
  },
  {
   "cell_type": "code",
   "execution_count": null,
   "metadata": {},
   "outputs": [],
   "source": [
    "This is just a random result."
   ]
  },
  {
   "cell_type": "code",
   "execution_count": 47,
   "metadata": {},
   "outputs": [],
   "source": [
    "import matplotlib.pyplot as plt"
   ]
  },
  {
   "cell_type": "code",
   "execution_count": 55,
   "metadata": {},
   "outputs": [
    {
     "data": {
      "image/png": "[encoded data removed]",
      "text/plain": [
       "<Figure size 432x288 with 1 Axes>"
      ]
     },
     "metadata": {
      "needs_background": "light"
     },
     "output_type": "display_data"
    }
   ],
   "source": [
    "max_iter = np.array([10000, 100000, 1000000, 1e7, 1e8, 1e9])\n",
    "predict = np.array([-1.30144833e+13, 2.47608347e+13, -1.23645388e+12, 2.54771214e+12,7.60691955e+12,-6.4594364e+13])\n",
    "plt.plot(max_iter, predict);"
   ]
  },
  {
   "cell_type": "markdown",
   "metadata": {},
   "source": [
    "## Random numbers"
   ]
  },
  {
   "cell_type": "code",
   "execution_count": 56,
   "metadata": {},
   "outputs": [
    {
     "data": {
      "text/plain": [
       "SGDRegressor()"
      ]
     },
     "execution_count": 56,
     "metadata": {},
     "output_type": "execute_result"
    }
   ],
   "source": [
    "import numpy as np\n",
    "from sklearn import linear_model\n",
    "n_samples, n_features = 10, 5\n",
    "y = np.random.randn(n_samples)\n",
    "X = np.random.randn(n_samples, n_features)\n",
    "clf = linear_model.SGDRegressor()\n",
    "clf.fit(X, y)"
   ]
  },
  {
   "cell_type": "code",
   "execution_count": 57,
   "metadata": {},
   "outputs": [
    {
     "data": {
      "text/plain": [
       "array([[ 0.44634642, -1.36117141,  1.24196364, -0.6095424 ,  0.40530963],\n",
       "       [-1.6986911 , -2.86285921,  0.58142772,  0.27925597, -0.26563348],\n",
       "       [-1.38485722, -1.74237564, -1.11846279, -0.5751894 ,  0.19439057],\n",
       "       [ 0.31147849, -0.38048811,  0.84798586, -1.12721059,  0.6950663 ],\n",
       "       [ 1.78998074, -0.05508363, -0.57156626, -0.30803249,  0.0830568 ],\n",
       "       [-0.66241606,  0.2795211 , -1.73583934,  2.05422785,  0.87063836],\n",
       "       [ 2.00998044, -2.22671338, -0.21429892,  0.25282585, -0.31461423],\n",
       "       [ 1.13768698, -0.05892544,  0.91187452,  0.17145489, -1.65216564],\n",
       "       [-0.23254334, -0.19983607, -0.52315018, -0.4278799 , -1.10644198],\n",
       "       [-0.68721415, -0.36895946, -0.83693354,  0.22397896, -0.10042027]])"
      ]
     },
     "execution_count": 57,
     "metadata": {},
     "output_type": "execute_result"
    }
   ],
   "source": [
    "X"
   ]
  },
  {
   "cell_type": "code",
   "execution_count": 58,
   "metadata": {},
   "outputs": [
    {
     "data": {
      "text/plain": [
       "array([-0.12568472, -0.69582857,  0.27272849, -0.31955474, -0.25771387,\n",
       "        0.12436746,  0.76485899, -0.96979056,  0.44093485,  0.96718942])"
      ]
     },
     "execution_count": 58,
     "metadata": {},
     "output_type": "execute_result"
    }
   ],
   "source": [
    "y"
   ]
  },
  {
   "cell_type": "markdown",
   "metadata": {},
   "source": [
    "The `fit()` method does all the training magic, resulting in a model we can use for prediction (in this case, predicting on one example):"
   ]
  },
  {
   "cell_type": "code",
   "execution_count": 59,
   "metadata": {},
   "outputs": [
    {
     "data": {
      "text/plain": [
       "array([[ 0.47476421, -0.86626485,  0.04687077,  1.16019561, -0.00998942]])"
      ]
     },
     "execution_count": 59,
     "metadata": {},
     "output_type": "execute_result"
    }
   ],
   "source": [
    "features = np.random.randn(1, n_features)\n",
    "features"
   ]
  },
  {
   "cell_type": "code",
   "execution_count": 60,
   "metadata": {},
   "outputs": [
    {
     "data": {
      "text/plain": [
       "array([0.00882539])"
      ]
     },
     "execution_count": 60,
     "metadata": {},
     "output_type": "execute_result"
    }
   ],
   "source": [
    "clf.predict(features)"
   ]
  },
  {
   "cell_type": "markdown",
   "metadata": {},
   "source": [
    "In addition to the `fit()` method, the SGDRegressor also provides a `partial_fit()` method, so that you can incrementally train on small batches of data. In fact, all learning algorithms that are compatible with standard optimisation algorithms like (stochastic) gradient decent, adam, RMSprop, and so on have this capability.\n",
    "\n",
    "Out of curiosity, let’s see how long it takes to train on a single example using `partial_fit()`:"
   ]
  },
  {
   "cell_type": "code",
   "execution_count": 61,
   "metadata": {},
   "outputs": [
    {
     "name": "stdout",
     "output_type": "stream",
     "text": [
      "0.0010004043579101562\n"
     ]
    }
   ],
   "source": [
    "import numpy as np\n",
    "from sklearn import linear_model\n",
    "n_samples, n_features = 1, 500\n",
    "y = np.random.randn(n_samples)\n",
    "X = np.random.randn(n_samples, n_features)\n",
    "clf = linear_model.SGDRegressor()\n",
    "import time\n",
    "start_time = time.time()\n",
    "clf.partial_fit(X, y)\n",
    "elapsed_time = time.time() - start_time\n",
    "print(elapsed_time)"
   ]
  },
  {
   "cell_type": "markdown",
   "metadata": {},
   "source": [
    "That’s quite fast. In fact, if we were to put our SGDRegressor behind a REST API and train on an example each time an HTTP request was made, factoring in, say, 10ms for request processing, we could handle about 520 requests a second, or about 45 million requests a day."
   ]
  },
  {
   "cell_type": "markdown",
   "metadata": {},
   "source": [
    "## BRFSS"
   ]
  },
  {
   "cell_type": "code",
   "execution_count": 67,
   "metadata": {},
   "outputs": [
    {
     "data": {
      "text/html": [
       "<div>\n",
       "<style scoped>\n",
       "    .dataframe tbody tr th:only-of-type {\n",
       "        vertical-align: middle;\n",
       "    }\n",
       "\n",
       "    .dataframe tbody tr th {\n",
       "        vertical-align: top;\n",
       "    }\n",
       "\n",
       "    .dataframe thead th {\n",
       "        text-align: right;\n",
       "    }\n",
       "</style>\n",
       "<table border=\"1\" class=\"dataframe\">\n",
       "  <thead>\n",
       "    <tr style=\"text-align: right;\">\n",
       "      <th></th>\n",
       "      <th>income</th>\n",
       "      <th>exp</th>\n",
       "      <th>college</th>\n",
       "      <th>geog</th>\n",
       "    </tr>\n",
       "  </thead>\n",
       "  <tbody>\n",
       "    <tr>\n",
       "      <th>0</th>\n",
       "      <td>68666.665724</td>\n",
       "      <td>11</td>\n",
       "      <td>1</td>\n",
       "      <td>AB</td>\n",
       "    </tr>\n",
       "    <tr>\n",
       "      <th>1</th>\n",
       "      <td>58200.564681</td>\n",
       "      <td>30</td>\n",
       "      <td>1</td>\n",
       "      <td>ON</td>\n",
       "    </tr>\n",
       "    <tr>\n",
       "      <th>2</th>\n",
       "      <td>57723.268424</td>\n",
       "      <td>30</td>\n",
       "      <td>1</td>\n",
       "      <td>QC</td>\n",
       "    </tr>\n",
       "    <tr>\n",
       "      <th>3</th>\n",
       "      <td>50434.512838</td>\n",
       "      <td>15</td>\n",
       "      <td>1</td>\n",
       "      <td>QC</td>\n",
       "    </tr>\n",
       "    <tr>\n",
       "      <th>4</th>\n",
       "      <td>33479.741603</td>\n",
       "      <td>8</td>\n",
       "      <td>1</td>\n",
       "      <td>ON</td>\n",
       "    </tr>\n",
       "  </tbody>\n",
       "</table>\n",
       "</div>"
      ],
      "text/plain": [
       "         income  exp  college geog\n",
       "0  68666.665724   11        1   AB\n",
       "1  58200.564681   30        1   ON\n",
       "2  57723.268424   30        1   QC\n",
       "3  50434.512838   15        1   QC\n",
       "4  33479.741603    8        1   ON"
      ]
     },
     "execution_count": 67,
     "metadata": {},
     "output_type": "execute_result"
    }
   ],
   "source": [
    "#import pandas as pd\n",
    "df = pd.read_csv('BRFSS_2018_v2.csv')\n",
    "df.head()"
   ]
  },
  {
   "cell_type": "code",
   "execution_count": 72,
   "metadata": {},
   "outputs": [
    {
     "name": "stdout",
     "output_type": "stream",
     "text": [
      "[0 2 3 ... 1 2 3]\n"
     ]
    }
   ],
   "source": [
    "from sklearn.preprocessing import LabelEncoder\n",
    "label_encoder = LabelEncoder()\n",
    "geog = label_encoder.fit_transform(df['geog'])\n",
    "print(geog)"
   ]
  },
  {
   "cell_type": "code",
   "execution_count": 74,
   "metadata": {},
   "outputs": [
    {
     "name": "stdout",
     "output_type": "stream",
     "text": [
      "   exp  college\n",
      "0   11        1\n",
      "1   30        1\n",
      "2   30        1\n",
      "3   15        1\n",
      "4    8        1\n"
     ]
    },
    {
     "data": {
      "text/plain": [
       "SGDRegressor()"
      ]
     },
     "execution_count": 74,
     "metadata": {},
     "output_type": "execute_result"
    }
   ],
   "source": [
    "#import numpy as np\n",
    "#from sklearn import linear_model\n",
    "y = df['income']\n",
    "X = df.iloc[:,1:2+1]\n",
    "print(X.head())\n",
    "n_samples, n_features = y.shape[0], X.shape[1]\n",
    "clf = linear_model.SGDRegressor()\n",
    "clf.fit(X, y)"
   ]
  },
  {
   "cell_type": "code",
   "execution_count": 79,
   "metadata": {},
   "outputs": [
    {
     "name": "stdout",
     "output_type": "stream",
     "text": [
      "[[ 1.07544559 -0.48806149]]\n"
     ]
    },
    {
     "data": {
      "text/plain": [
       "array([29054.91291858])"
      ]
     },
     "execution_count": 79,
     "metadata": {},
     "output_type": "execute_result"
    }
   ],
   "source": [
    "features = np.random.randn(1, n_features)\n",
    "print(features)\n",
    "clf.predict(features)"
   ]
  },
  {
   "cell_type": "code",
   "execution_count": 82,
   "metadata": {},
   "outputs": [
    {
     "data": {
      "text/plain": [
       "array([61044.733285])"
      ]
     },
     "execution_count": 82,
     "metadata": {},
     "output_type": "execute_result"
    }
   ],
   "source": [
    "features = [[21, 1]]\n",
    "clf.predict(features)"
   ]
  },
  {
   "cell_type": "code",
   "execution_count": 81,
   "metadata": {},
   "outputs": [
    {
     "data": {
      "text/plain": [
       "array([56912.40001802])"
      ]
     },
     "execution_count": 81,
     "metadata": {},
     "output_type": "execute_result"
    }
   ],
   "source": [
    "features = [[21, 0]]\n",
    "clf.predict(features)"
   ]
  },
  {
   "cell_type": "markdown",
   "metadata": {},
   "source": [
    "Makes sense. Let's add a province."
   ]
  },
  {
   "cell_type": "code",
   "execution_count": 102,
   "metadata": {},
   "outputs": [
    {
     "name": "stdout",
     "output_type": "stream",
     "text": [
      "   exp  college  geog\n",
      "0   11        1     0\n",
      "1   30        1     2\n",
      "2   30        1     3\n",
      "3   15        1     3\n",
      "4    8        1     2\n"
     ]
    },
    {
     "data": {
      "text/plain": [
       "SGDRegressor()"
      ]
     },
     "execution_count": 102,
     "metadata": {},
     "output_type": "execute_result"
    }
   ],
   "source": [
    "#import numpy as np\n",
    "#from sklearn import linear_model\n",
    "y = df['income']\n",
    "df['geog'] = geog\n",
    "X = df.iloc[:,1:]\n",
    "print(X.head())\n",
    "n_samples, n_features = y.shape[0], X.shape[1]\n",
    "clf = linear_model.SGDRegressor()\n",
    "clf.fit(X, y)"
   ]
  },
  {
   "cell_type": "code",
   "execution_count": 103,
   "metadata": {},
   "outputs": [
    {
     "data": {
      "text/html": [
       "<div>\n",
       "<style scoped>\n",
       "    .dataframe tbody tr th:only-of-type {\n",
       "        vertical-align: middle;\n",
       "    }\n",
       "\n",
       "    .dataframe tbody tr th {\n",
       "        vertical-align: top;\n",
       "    }\n",
       "\n",
       "    .dataframe thead th {\n",
       "        text-align: right;\n",
       "    }\n",
       "</style>\n",
       "<table border=\"1\" class=\"dataframe\">\n",
       "  <thead>\n",
       "    <tr style=\"text-align: right;\">\n",
       "      <th></th>\n",
       "      <th>exp</th>\n",
       "      <th>college</th>\n",
       "      <th>geog</th>\n",
       "    </tr>\n",
       "  </thead>\n",
       "  <tbody>\n",
       "    <tr>\n",
       "      <th>0</th>\n",
       "      <td>11</td>\n",
       "      <td>1</td>\n",
       "      <td>0</td>\n",
       "    </tr>\n",
       "    <tr>\n",
       "      <th>1</th>\n",
       "      <td>30</td>\n",
       "      <td>1</td>\n",
       "      <td>2</td>\n",
       "    </tr>\n",
       "    <tr>\n",
       "      <th>2</th>\n",
       "      <td>30</td>\n",
       "      <td>1</td>\n",
       "      <td>3</td>\n",
       "    </tr>\n",
       "    <tr>\n",
       "      <th>3</th>\n",
       "      <td>15</td>\n",
       "      <td>1</td>\n",
       "      <td>3</td>\n",
       "    </tr>\n",
       "    <tr>\n",
       "      <th>4</th>\n",
       "      <td>8</td>\n",
       "      <td>1</td>\n",
       "      <td>2</td>\n",
       "    </tr>\n",
       "    <tr>\n",
       "      <th>...</th>\n",
       "      <td>...</td>\n",
       "      <td>...</td>\n",
       "      <td>...</td>\n",
       "    </tr>\n",
       "    <tr>\n",
       "      <th>25316</th>\n",
       "      <td>3</td>\n",
       "      <td>1</td>\n",
       "      <td>3</td>\n",
       "    </tr>\n",
       "    <tr>\n",
       "      <th>25317</th>\n",
       "      <td>35</td>\n",
       "      <td>0</td>\n",
       "      <td>2</td>\n",
       "    </tr>\n",
       "    <tr>\n",
       "      <th>25318</th>\n",
       "      <td>17</td>\n",
       "      <td>1</td>\n",
       "      <td>1</td>\n",
       "    </tr>\n",
       "    <tr>\n",
       "      <th>25319</th>\n",
       "      <td>10</td>\n",
       "      <td>1</td>\n",
       "      <td>2</td>\n",
       "    </tr>\n",
       "    <tr>\n",
       "      <th>25320</th>\n",
       "      <td>15</td>\n",
       "      <td>1</td>\n",
       "      <td>3</td>\n",
       "    </tr>\n",
       "  </tbody>\n",
       "</table>\n",
       "<p>25321 rows × 3 columns</p>\n",
       "</div>"
      ],
      "text/plain": [
       "       exp  college  geog\n",
       "0       11        1     0\n",
       "1       30        1     2\n",
       "2       30        1     3\n",
       "3       15        1     3\n",
       "4        8        1     2\n",
       "...    ...      ...   ...\n",
       "25316    3        1     3\n",
       "25317   35        0     2\n",
       "25318   17        1     1\n",
       "25319   10        1     2\n",
       "25320   15        1     3\n",
       "\n",
       "[25321 rows x 3 columns]"
      ]
     },
     "execution_count": 103,
     "metadata": {},
     "output_type": "execute_result"
    }
   ],
   "source": [
    "X"
   ]
  },
  {
   "cell_type": "code",
   "execution_count": 105,
   "metadata": {},
   "outputs": [
    {
     "data": {
      "text/plain": [
       "array([60715.13552546])"
      ]
     },
     "execution_count": 105,
     "metadata": {},
     "output_type": "execute_result"
    }
   ],
   "source": [
    "features = [[21, 0, 3]]\n",
    "clf.predict(features)"
   ]
  },
  {
   "cell_type": "code",
   "execution_count": 106,
   "metadata": {},
   "outputs": [
    {
     "data": {
      "text/plain": [
       "array([64868.32656218])"
      ]
     },
     "execution_count": 106,
     "metadata": {},
     "output_type": "execute_result"
    }
   ],
   "source": [
    "features = [[21, 1, 3]]\n",
    "clf.predict(features)"
   ]
  },
  {
   "cell_type": "code",
   "execution_count": null,
   "metadata": {},
   "outputs": [],
   "source": []
  }
 ],
 "metadata": {
  "kernelspec": {
   "display_name": "Python 3",
   "language": "python",
   "name": "python3"
  },
  "language_info": {
   "codemirror_mode": {
    "name": "ipython",
    "version": 3
   },
   "file_extension": ".py",
   "mimetype": "text/x-python",
   "name": "python",
   "nbconvert_exporter": "python",
   "pygments_lexer": "ipython3",
   "version": "3.8.5"
  }
 },
 "nbformat": 4,
 "nbformat_minor": 4
}
