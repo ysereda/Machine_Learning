{
 "cells": [
  {
   "cell_type": "markdown",
   "metadata": {},
   "source": [
    "# Regression with Machine Learning\n",
    "## Random numbers\n",
    "[Max Pagels, \"What is Online Machine Learning?\", Apr 20, 2018\n",
    "\n",
    "https://medium.com/value-stream-design/online-machine-learning-515556ff72c5]"
   ]
  },
  {
   "cell_type": "code",
   "execution_count": 14,
   "metadata": {},
   "outputs": [],
   "source": [
    "%reset -f"
   ]
  },
  {
   "cell_type": "code",
   "execution_count": 15,
   "metadata": {},
   "outputs": [
    {
     "data": {
      "text/plain": [
       "SGDRegressor()"
      ]
     },
     "execution_count": 15,
     "metadata": {},
     "output_type": "execute_result"
    }
   ],
   "source": [
    "import numpy as np\n",
    "from sklearn import linear_model\n",
    "n_samples, n_features = 10, 5\n",
    "y = np.random.randn(n_samples)\n",
    "X = np.random.randn(n_samples, n_features)\n",
    "clf = linear_model.SGDRegressor()\n",
    "clf.fit(X, y)"
   ]
  },
  {
   "cell_type": "code",
   "execution_count": 16,
   "metadata": {},
   "outputs": [
    {
     "data": {
      "text/plain": [
       "array([[ 0.52507017,  0.31105106, -1.90290702,  0.4390847 , -0.38087905],\n",
       "       [ 0.33506284,  0.20782376,  1.48327699,  1.94217375,  1.06749719],\n",
       "       [-0.33514192, -1.5181761 ,  1.99196849,  0.40177028, -0.12717096],\n",
       "       [ 0.47700792,  0.49942312, -1.04115773,  0.51225783,  0.44243791],\n",
       "       [-1.34508497, -0.86872718,  0.59601186,  1.23947051, -0.02845676],\n",
       "       [-0.12950413, -0.55006643, -1.05686422, -0.24071754,  1.31569849],\n",
       "       [ 0.51496419, -0.11417358, -0.40475571, -0.78654387, -1.58327794],\n",
       "       [ 0.27908715,  0.121572  ,  0.12449937, -0.19792013, -1.42538822],\n",
       "       [-0.88033262,  2.0517154 , -0.43587301, -0.98164216, -1.06857119],\n",
       "       [ 0.41096267,  1.05917507, -0.07901609,  0.69092954, -1.22541916]])"
      ]
     },
     "execution_count": 16,
     "metadata": {},
     "output_type": "execute_result"
    }
   ],
   "source": [
    "X # 5 features, 10 samples"
   ]
  },
  {
   "cell_type": "code",
   "execution_count": 17,
   "metadata": {},
   "outputs": [
    {
     "data": {
      "text/plain": [
       "array([ 1.74545973, -0.33805475, -0.68953697,  1.43106543, -0.38563525,\n",
       "       -1.21913137,  0.07384796, -1.18453015,  1.51877223, -0.39655419])"
      ]
     },
     "execution_count": 17,
     "metadata": {},
     "output_type": "execute_result"
    }
   ],
   "source": [
    "y"
   ]
  },
  {
   "cell_type": "markdown",
   "metadata": {},
   "source": [
    "The `fit()` method does all the training magic, resulting in a model we can use for prediction (in this case, predicting on one example):"
   ]
  },
  {
   "cell_type": "code",
   "execution_count": 18,
   "metadata": {},
   "outputs": [
    {
     "name": "stdout",
     "output_type": "stream",
     "text": [
      "[[ 0.92788533  0.78950449 -1.15141345 -0.61159268 -0.17164461]]\n"
     ]
    },
    {
     "data": {
      "text/plain": [
       "array([0.61247133])"
      ]
     },
     "execution_count": 18,
     "metadata": {},
     "output_type": "execute_result"
    }
   ],
   "source": [
    "# make prediction for this set of features:\n",
    "features = np.random.randn(1, n_features)\n",
    "print(features)\n",
    "clf.predict(features)"
   ]
  },
  {
   "cell_type": "markdown",
   "metadata": {},
   "source": [
    "In addition to the `fit()` method, the SGDRegressor also provides a `partial_fit()` method, so that you can incrementally train on small batches of data. In fact, all learning algorithms that are compatible with standard optimisation algorithms like (stochastic) gradient decent, adam, RMSprop, and so on have this capability.\n",
    "\n",
    "Out of curiosity, let’s see how long it takes to train on a single example using `partial_fit()`:"
   ]
  },
  {
   "cell_type": "code",
   "execution_count": 22,
   "metadata": {},
   "outputs": [
    {
     "name": "stdout",
     "output_type": "stream",
     "text": [
      "0.001034\n"
     ]
    }
   ],
   "source": [
    "#import numpy as np\n",
    "#from sklearn import linear_model\n",
    "n_samples, n_features = 1, 500\n",
    "y = np.random.randn(n_samples)\n",
    "X = np.random.randn(n_samples, n_features)\n",
    "clf = linear_model.SGDRegressor()\n",
    "import time\n",
    "start_time = time.time()\n",
    "clf.partial_fit(X, y)\n",
    "elapsed_time = time.time() - start_time\n",
    "print(\"%.6f\" % elapsed_time)"
   ]
  },
  {
   "cell_type": "markdown",
   "metadata": {},
   "source": [
    "That’s quite fast. In fact, if we were to put our SGDRegressor behind a REST API and train on an example each time an HTTP request was made, factoring in, say, 10ms for request processing, we could handle about 520 requests a second, or about 45 million requests a day."
   ]
  },
  {
   "cell_type": "markdown",
   "metadata": {},
   "source": [
    "## BRFSS\n",
    "y - continuous, X - numeric and categorical"
   ]
  },
  {
   "cell_type": "code",
   "execution_count": 23,
   "metadata": {},
   "outputs": [],
   "source": [
    "import os\n",
    "os.chdir('C:/Sereda/Lectures/Springboard/13.Machine_Learning_Overview/')"
   ]
  },
  {
   "cell_type": "code",
   "execution_count": 24,
   "metadata": {},
   "outputs": [
    {
     "data": {
      "text/html": [
       "<div>\n",
       "<style scoped>\n",
       "    .dataframe tbody tr th:only-of-type {\n",
       "        vertical-align: middle;\n",
       "    }\n",
       "\n",
       "    .dataframe tbody tr th {\n",
       "        vertical-align: top;\n",
       "    }\n",
       "\n",
       "    .dataframe thead th {\n",
       "        text-align: right;\n",
       "    }\n",
       "</style>\n",
       "<table border=\"1\" class=\"dataframe\">\n",
       "  <thead>\n",
       "    <tr style=\"text-align: right;\">\n",
       "      <th></th>\n",
       "      <th>income</th>\n",
       "      <th>exp</th>\n",
       "      <th>college</th>\n",
       "      <th>geog</th>\n",
       "    </tr>\n",
       "  </thead>\n",
       "  <tbody>\n",
       "    <tr>\n",
       "      <th>0</th>\n",
       "      <td>68666.665724</td>\n",
       "      <td>11</td>\n",
       "      <td>1</td>\n",
       "      <td>AB</td>\n",
       "    </tr>\n",
       "    <tr>\n",
       "      <th>1</th>\n",
       "      <td>58200.564681</td>\n",
       "      <td>30</td>\n",
       "      <td>1</td>\n",
       "      <td>ON</td>\n",
       "    </tr>\n",
       "    <tr>\n",
       "      <th>2</th>\n",
       "      <td>57723.268424</td>\n",
       "      <td>30</td>\n",
       "      <td>1</td>\n",
       "      <td>QC</td>\n",
       "    </tr>\n",
       "    <tr>\n",
       "      <th>3</th>\n",
       "      <td>50434.512838</td>\n",
       "      <td>15</td>\n",
       "      <td>1</td>\n",
       "      <td>QC</td>\n",
       "    </tr>\n",
       "    <tr>\n",
       "      <th>4</th>\n",
       "      <td>33479.741603</td>\n",
       "      <td>8</td>\n",
       "      <td>1</td>\n",
       "      <td>ON</td>\n",
       "    </tr>\n",
       "  </tbody>\n",
       "</table>\n",
       "</div>"
      ],
      "text/plain": [
       "         income  exp  college geog\n",
       "0  68666.665724   11        1   AB\n",
       "1  58200.564681   30        1   ON\n",
       "2  57723.268424   30        1   QC\n",
       "3  50434.512838   15        1   QC\n",
       "4  33479.741603    8        1   ON"
      ]
     },
     "execution_count": 24,
     "metadata": {},
     "output_type": "execute_result"
    }
   ],
   "source": [
    "import pandas as pd\n",
    "df = pd.read_csv('BRFSS_2018_v2.csv')\n",
    "df.head()\n",
    "# Income vs. years of experience, attended college, province"
   ]
  },
  {
   "cell_type": "code",
   "execution_count": 72,
   "metadata": {},
   "outputs": [
    {
     "name": "stdout",
     "output_type": "stream",
     "text": [
      "[0 2 3 ... 1 2 3]\n"
     ]
    }
   ],
   "source": [
    "from sklearn.preprocessing import LabelEncoder\n",
    "label_encoder = LabelEncoder()\n",
    "geog = label_encoder.fit_transform(df['geog'])\n",
    "print(geog)"
   ]
  },
  {
   "cell_type": "code",
   "execution_count": 74,
   "metadata": {},
   "outputs": [
    {
     "name": "stdout",
     "output_type": "stream",
     "text": [
      "   exp  college\n",
      "0   11        1\n",
      "1   30        1\n",
      "2   30        1\n",
      "3   15        1\n",
      "4    8        1\n"
     ]
    },
    {
     "data": {
      "text/plain": [
       "SGDRegressor()"
      ]
     },
     "execution_count": 74,
     "metadata": {},
     "output_type": "execute_result"
    }
   ],
   "source": [
    "#import numpy as np\n",
    "#from sklearn import linear_model\n",
    "y = df['income']\n",
    "X = df.iloc[:,1:2+1]\n",
    "print(X.head())\n",
    "n_samples, n_features = y.shape[0], X.shape[1]\n",
    "clf = linear_model.SGDRegressor()\n",
    "clf.fit(X, y)"
   ]
  },
  {
   "cell_type": "code",
   "execution_count": 79,
   "metadata": {},
   "outputs": [
    {
     "name": "stdout",
     "output_type": "stream",
     "text": [
      "[[ 1.07544559 -0.48806149]]\n"
     ]
    },
    {
     "data": {
      "text/plain": [
       "array([29054.91291858])"
      ]
     },
     "execution_count": 79,
     "metadata": {},
     "output_type": "execute_result"
    }
   ],
   "source": [
    "features = np.random.randn(1, n_features)\n",
    "print(features)\n",
    "clf.predict(features)"
   ]
  },
  {
   "cell_type": "code",
   "execution_count": 82,
   "metadata": {},
   "outputs": [
    {
     "data": {
      "text/plain": [
       "array([61044.733285])"
      ]
     },
     "execution_count": 82,
     "metadata": {},
     "output_type": "execute_result"
    }
   ],
   "source": [
    "features = [[21, 1]]\n",
    "clf.predict(features)"
   ]
  },
  {
   "cell_type": "code",
   "execution_count": 81,
   "metadata": {},
   "outputs": [
    {
     "data": {
      "text/plain": [
       "array([56912.40001802])"
      ]
     },
     "execution_count": 81,
     "metadata": {},
     "output_type": "execute_result"
    }
   ],
   "source": [
    "features = [[21, 0]]\n",
    "clf.predict(features)"
   ]
  },
  {
   "cell_type": "markdown",
   "metadata": {},
   "source": [
    "Makes sense. Let's add a province."
   ]
  },
  {
   "cell_type": "code",
   "execution_count": 102,
   "metadata": {},
   "outputs": [
    {
     "name": "stdout",
     "output_type": "stream",
     "text": [
      "   exp  college  geog\n",
      "0   11        1     0\n",
      "1   30        1     2\n",
      "2   30        1     3\n",
      "3   15        1     3\n",
      "4    8        1     2\n"
     ]
    },
    {
     "data": {
      "text/plain": [
       "SGDRegressor()"
      ]
     },
     "execution_count": 102,
     "metadata": {},
     "output_type": "execute_result"
    }
   ],
   "source": [
    "#import numpy as np\n",
    "#from sklearn import linear_model\n",
    "y = df['income']\n",
    "df['geog'] = geog\n",
    "X = df.iloc[:,1:]\n",
    "print(X.head())\n",
    "n_samples, n_features = y.shape[0], X.shape[1]\n",
    "clf = linear_model.SGDRegressor()\n",
    "clf.fit(X, y)"
   ]
  },
  {
   "cell_type": "code",
   "execution_count": 103,
   "metadata": {},
   "outputs": [
    {
     "data": {
      "text/html": [
       "<div>\n",
       "<style scoped>\n",
       "    .dataframe tbody tr th:only-of-type {\n",
       "        vertical-align: middle;\n",
       "    }\n",
       "\n",
       "    .dataframe tbody tr th {\n",
       "        vertical-align: top;\n",
       "    }\n",
       "\n",
       "    .dataframe thead th {\n",
       "        text-align: right;\n",
       "    }\n",
       "</style>\n",
       "<table border=\"1\" class=\"dataframe\">\n",
       "  <thead>\n",
       "    <tr style=\"text-align: right;\">\n",
       "      <th></th>\n",
       "      <th>exp</th>\n",
       "      <th>college</th>\n",
       "      <th>geog</th>\n",
       "    </tr>\n",
       "  </thead>\n",
       "  <tbody>\n",
       "    <tr>\n",
       "      <th>0</th>\n",
       "      <td>11</td>\n",
       "      <td>1</td>\n",
       "      <td>0</td>\n",
       "    </tr>\n",
       "    <tr>\n",
       "      <th>1</th>\n",
       "      <td>30</td>\n",
       "      <td>1</td>\n",
       "      <td>2</td>\n",
       "    </tr>\n",
       "    <tr>\n",
       "      <th>2</th>\n",
       "      <td>30</td>\n",
       "      <td>1</td>\n",
       "      <td>3</td>\n",
       "    </tr>\n",
       "    <tr>\n",
       "      <th>3</th>\n",
       "      <td>15</td>\n",
       "      <td>1</td>\n",
       "      <td>3</td>\n",
       "    </tr>\n",
       "    <tr>\n",
       "      <th>4</th>\n",
       "      <td>8</td>\n",
       "      <td>1</td>\n",
       "      <td>2</td>\n",
       "    </tr>\n",
       "    <tr>\n",
       "      <th>...</th>\n",
       "      <td>...</td>\n",
       "      <td>...</td>\n",
       "      <td>...</td>\n",
       "    </tr>\n",
       "    <tr>\n",
       "      <th>25316</th>\n",
       "      <td>3</td>\n",
       "      <td>1</td>\n",
       "      <td>3</td>\n",
       "    </tr>\n",
       "    <tr>\n",
       "      <th>25317</th>\n",
       "      <td>35</td>\n",
       "      <td>0</td>\n",
       "      <td>2</td>\n",
       "    </tr>\n",
       "    <tr>\n",
       "      <th>25318</th>\n",
       "      <td>17</td>\n",
       "      <td>1</td>\n",
       "      <td>1</td>\n",
       "    </tr>\n",
       "    <tr>\n",
       "      <th>25319</th>\n",
       "      <td>10</td>\n",
       "      <td>1</td>\n",
       "      <td>2</td>\n",
       "    </tr>\n",
       "    <tr>\n",
       "      <th>25320</th>\n",
       "      <td>15</td>\n",
       "      <td>1</td>\n",
       "      <td>3</td>\n",
       "    </tr>\n",
       "  </tbody>\n",
       "</table>\n",
       "<p>25321 rows × 3 columns</p>\n",
       "</div>"
      ],
      "text/plain": [
       "       exp  college  geog\n",
       "0       11        1     0\n",
       "1       30        1     2\n",
       "2       30        1     3\n",
       "3       15        1     3\n",
       "4        8        1     2\n",
       "...    ...      ...   ...\n",
       "25316    3        1     3\n",
       "25317   35        0     2\n",
       "25318   17        1     1\n",
       "25319   10        1     2\n",
       "25320   15        1     3\n",
       "\n",
       "[25321 rows x 3 columns]"
      ]
     },
     "execution_count": 103,
     "metadata": {},
     "output_type": "execute_result"
    }
   ],
   "source": [
    "X"
   ]
  },
  {
   "cell_type": "code",
   "execution_count": 105,
   "metadata": {},
   "outputs": [
    {
     "data": {
      "text/plain": [
       "array([60715.13552546])"
      ]
     },
     "execution_count": 105,
     "metadata": {},
     "output_type": "execute_result"
    }
   ],
   "source": [
    "features = [[21, 0, 3]]\n",
    "clf.predict(features)"
   ]
  },
  {
   "cell_type": "code",
   "execution_count": 106,
   "metadata": {},
   "outputs": [
    {
     "data": {
      "text/plain": [
       "array([64868.32656218])"
      ]
     },
     "execution_count": 106,
     "metadata": {},
     "output_type": "execute_result"
    }
   ],
   "source": [
    "features = [[21, 1, 3]]\n",
    "clf.predict(features)"
   ]
  },
  {
   "cell_type": "code",
   "execution_count": null,
   "metadata": {},
   "outputs": [],
   "source": []
  },
  {
   "cell_type": "markdown",
   "metadata": {},
   "source": [
    "## Violent crimes\n",
    "Guns is a balanced panel of data on 50 US states, plus the District of Columbia (for a total of 51 “states”), by year for 1977 – 1999. Each observation is a given state in a given year. There are a total of 51 states × 23 years = 1173 observations. These data were provided by Professor John Donohue of Stanford University and were used in his paper with Ian Ayres “Shooting Down the ‘More Guns Less Crime’ Hypothesis” Stanford Law Review, 2003, Vol. 55, 1193-1312.\n",
    "\n",
    "Variables:\n",
    "\n",
    "year: 1977-1999\n",
    "\n",
    "incarc_rate: incarceration rate in the state in the previous year (sentenced prisoners per 100,000 residents; value for the previous year)\n",
    "\n",
    "pb1064: percent of state population that is black, ages 10 to 64\n",
    "\n",
    "pw1064: percent of state population that is white, ages 10 to 64\n",
    "\n",
    "pm1029: percent of state population that is male, ages 10 to 29\n",
    "\n",
    "pop: state population, in millions of people\n",
    "\n",
    "avginc: real per capita personal income in the state, in thousands of dollars\n",
    "\n",
    "density: population per square mile of land area, divided by 1000\n",
    "\n",
    "stateid: ID number of states (Alabama = 1, Alaska = 2, etc.)\n",
    "\n",
    "[Stock and Watson’s Introduction to Econometrics, 3rd Updated Edition]"
   ]
  },
  {
   "cell_type": "code",
   "execution_count": null,
   "metadata": {},
   "outputs": [],
   "source": [
    "import pandas as pd\n",
    "df = pd.read_csv('violent_crimes.csv')\n",
    "df.head()"
   ]
  },
  {
   "cell_type": "markdown",
   "metadata": {},
   "source": [
    "https://medium.com/value-stream-design/online-machine-learning-515556ff72c5\n",
    "\n",
    "Usual starting point is the SGDRegressor class."
   ]
  },
  {
   "cell_type": "code",
   "execution_count": null,
   "metadata": {},
   "outputs": [],
   "source": [
    "import numpy as np\n",
    "from sklearn import linear_model\n",
    "y = df['vio'] # violent crime rate (incidents per 100,000 members of the population)\n",
    "X = df.iloc[:,1:]\n",
    "#X = df.iloc[:,1:2+1];\n",
    "print(X.head())\n",
    "n_samples, n_features = y.shape[0], X.shape[1]\n",
    "clf = linear_model.SGDRegressor()\n",
    "clf.fit(X, y)"
   ]
  },
  {
   "cell_type": "markdown",
   "metadata": {},
   "source": [
    "The fit() method does all the training magic, resulting in a model we can use for prediction:"
   ]
  },
  {
   "cell_type": "code",
   "execution_count": null,
   "metadata": {},
   "outputs": [],
   "source": [
    "fp = df.iloc[-1] # features previous\n",
    "print(fp)"
   ]
  },
  {
   "cell_type": "code",
   "execution_count": null,
   "metadata": {},
   "outputs": [],
   "source": [
    "features = np.array([[fp.year+1, fp.incarc_rate, fp.pb1064, fp.pw1064, fp.pm1029, fp['pop'], fp.avginc,fp.density, fp.stateid, fp.shall]]) # year = 2000\n",
    "#features = np.array([[fp.year+1, fp.year, fp.incarc_rate]])\n",
    "features"
   ]
  },
  {
   "cell_type": "code",
   "execution_count": 65,
   "metadata": {
    "scrolled": true
   },
   "outputs": [
    {
     "data": {
      "text/plain": [
       "array([-3.17216627e+12])"
      ]
     },
     "execution_count": 65,
     "metadata": {},
     "output_type": "execute_result"
    }
   ],
   "source": [
    "clf.predict(features)"
   ]
  },
  {
   "cell_type": "markdown",
   "metadata": {},
   "source": [
    "Invalid prediction. What is going on?"
   ]
  },
  {
   "cell_type": "code",
   "execution_count": 77,
   "metadata": {},
   "outputs": [],
   "source": [
    "?linear_model.SGDRegressor"
   ]
  },
  {
   "cell_type": "code",
   "execution_count": 54,
   "metadata": {},
   "outputs": [
    {
     "data": {
      "text/plain": [
       "array([-6.4594364e+13])"
      ]
     },
     "execution_count": 54,
     "metadata": {},
     "output_type": "execute_result"
    }
   ],
   "source": [
    "clf = linear_model.SGDRegressor(max_iter=1e9)\n",
    "clf.fit(X, y)\n",
    "clf.predict(features)"
   ]
  },
  {
   "cell_type": "code",
   "execution_count": null,
   "metadata": {},
   "outputs": [],
   "source": [
    "This is just a random result."
   ]
  },
  {
   "cell_type": "code",
   "execution_count": 47,
   "metadata": {},
   "outputs": [],
   "source": [
    "import matplotlib.pyplot as plt"
   ]
  },
  {
   "cell_type": "code",
   "execution_count": 55,
   "metadata": {},
   "outputs": [
    {
     "data": {
      "image/png": "[encoded data removed]",
      "text/plain": [
       "<Figure size 432x288 with 1 Axes>"
      ]
     },
     "metadata": {
      "needs_background": "light"
     },
     "output_type": "display_data"
    }
   ],
   "source": [
    "max_iter = np.array([10000, 100000, 1000000, 1e7, 1e8, 1e9])\n",
    "predict = np.array([-1.30144833e+13, 2.47608347e+13, -1.23645388e+12, 2.54771214e+12,7.60691955e+12,-6.4594364e+13])\n",
    "plt.plot(max_iter, predict);"
   ]
  },
  {
   "cell_type": "code",
   "execution_count": null,
   "metadata": {},
   "outputs": [],
   "source": []
  }
 ],
 "metadata": {
  "kernelspec": {
   "display_name": "Python 3",
   "language": "python",
   "name": "python3"
  }
 },
 "nbformat": 4,
 "nbformat_minor": 4
}
